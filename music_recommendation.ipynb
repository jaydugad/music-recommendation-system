{
 "cells": [
  {
   "cell_type": "code",
   "execution_count": 1,
   "id": "4f60d0f9-ef2a-4e1f-97b0-0d064eaae633",
   "metadata": {},
   "outputs": [],
   "source": [
    "import pandas as pd"
   ]
  },
  {
   "cell_type": "code",
   "execution_count": 2,
   "id": "c4a31711-d771-417e-91d9-d3affd3b7911",
   "metadata": {},
   "outputs": [],
   "source": [
    "df = pd.read_csv(\"spotify_millsongdata.csv\")"
   ]
  },
  {
   "cell_type": "code",
   "execution_count": 3,
   "id": "6bc251ba-9992-4891-ac40-3cb85b87c591",
   "metadata": {},
   "outputs": [
    {
     "data": {
      "text/html": [
       "<div>\n",
       "<style scoped>\n",
       "    .dataframe tbody tr th:only-of-type {\n",
       "        vertical-align: middle;\n",
       "    }\n",
       "\n",
       "    .dataframe tbody tr th {\n",
       "        vertical-align: top;\n",
       "    }\n",
       "\n",
       "    .dataframe thead th {\n",
       "        text-align: right;\n",
       "    }\n",
       "</style>\n",
       "<table border=\"1\" class=\"dataframe\">\n",
       "  <thead>\n",
       "    <tr style=\"text-align: right;\">\n",
       "      <th></th>\n",
       "      <th>artist</th>\n",
       "      <th>song</th>\n",
       "      <th>link</th>\n",
       "      <th>text</th>\n",
       "    </tr>\n",
       "  </thead>\n",
       "  <tbody>\n",
       "    <tr>\n",
       "      <th>0</th>\n",
       "      <td>ABBA</td>\n",
       "      <td>Ahe's My Kind Of Girl</td>\n",
       "      <td>/a/abba/ahes+my+kind+of+girl_20598417.html</td>\n",
       "      <td>Look at her face, it's a wonderful face  \\r\\nA...</td>\n",
       "    </tr>\n",
       "    <tr>\n",
       "      <th>1</th>\n",
       "      <td>ABBA</td>\n",
       "      <td>Andante, Andante</td>\n",
       "      <td>/a/abba/andante+andante_20002708.html</td>\n",
       "      <td>Take it easy with me, please  \\r\\nTouch me gen...</td>\n",
       "    </tr>\n",
       "    <tr>\n",
       "      <th>2</th>\n",
       "      <td>ABBA</td>\n",
       "      <td>As Good As New</td>\n",
       "      <td>/a/abba/as+good+as+new_20003033.html</td>\n",
       "      <td>I'll never know why I had to go  \\r\\nWhy I had...</td>\n",
       "    </tr>\n",
       "    <tr>\n",
       "      <th>3</th>\n",
       "      <td>ABBA</td>\n",
       "      <td>Bang</td>\n",
       "      <td>/a/abba/bang_20598415.html</td>\n",
       "      <td>Making somebody happy is a question of give an...</td>\n",
       "    </tr>\n",
       "    <tr>\n",
       "      <th>4</th>\n",
       "      <td>ABBA</td>\n",
       "      <td>Bang-A-Boomerang</td>\n",
       "      <td>/a/abba/bang+a+boomerang_20002668.html</td>\n",
       "      <td>Making somebody happy is a question of give an...</td>\n",
       "    </tr>\n",
       "  </tbody>\n",
       "</table>\n",
       "</div>"
      ],
      "text/plain": [
       "  artist                   song                                        link  \\\n",
       "0   ABBA  Ahe's My Kind Of Girl  /a/abba/ahes+my+kind+of+girl_20598417.html   \n",
       "1   ABBA       Andante, Andante       /a/abba/andante+andante_20002708.html   \n",
       "2   ABBA         As Good As New        /a/abba/as+good+as+new_20003033.html   \n",
       "3   ABBA                   Bang                  /a/abba/bang_20598415.html   \n",
       "4   ABBA       Bang-A-Boomerang      /a/abba/bang+a+boomerang_20002668.html   \n",
       "\n",
       "                                                text  \n",
       "0  Look at her face, it's a wonderful face  \\r\\nA...  \n",
       "1  Take it easy with me, please  \\r\\nTouch me gen...  \n",
       "2  I'll never know why I had to go  \\r\\nWhy I had...  \n",
       "3  Making somebody happy is a question of give an...  \n",
       "4  Making somebody happy is a question of give an...  "
      ]
     },
     "execution_count": 3,
     "metadata": {},
     "output_type": "execute_result"
    }
   ],
   "source": [
    "df.head()"
   ]
  },
  {
   "cell_type": "code",
   "execution_count": 4,
   "id": "ffe42327-41c7-447c-b9fe-65004c710c4d",
   "metadata": {},
   "outputs": [
    {
     "data": {
      "text/plain": [
       "artist    0\n",
       "song      0\n",
       "link      0\n",
       "text      0\n",
       "dtype: int64"
      ]
     },
     "execution_count": 4,
     "metadata": {},
     "output_type": "execute_result"
    }
   ],
   "source": [
    "df.isnull().sum()"
   ]
  },
  {
   "cell_type": "code",
   "execution_count": 6,
   "id": "16449abf-d1b6-4140-a7f1-ebec5db93cf8",
   "metadata": {},
   "outputs": [],
   "source": [
    "df =df.sample(5000).drop('link', axis=1).reset_index(drop=True)"
   ]
  },
  {
   "cell_type": "code",
   "execution_count": 7,
   "id": "13f438b8-c038-4bea-ba62-f729d08752ca",
   "metadata": {},
   "outputs": [
    {
     "data": {
      "text/html": [
       "<div>\n",
       "<style scoped>\n",
       "    .dataframe tbody tr th:only-of-type {\n",
       "        vertical-align: middle;\n",
       "    }\n",
       "\n",
       "    .dataframe tbody tr th {\n",
       "        vertical-align: top;\n",
       "    }\n",
       "\n",
       "    .dataframe thead th {\n",
       "        text-align: right;\n",
       "    }\n",
       "</style>\n",
       "<table border=\"1\" class=\"dataframe\">\n",
       "  <thead>\n",
       "    <tr style=\"text-align: right;\">\n",
       "      <th></th>\n",
       "      <th>artist</th>\n",
       "      <th>song</th>\n",
       "      <th>text</th>\n",
       "    </tr>\n",
       "  </thead>\n",
       "  <tbody>\n",
       "    <tr>\n",
       "      <th>0</th>\n",
       "      <td>John Waite</td>\n",
       "      <td>Run To Mexico</td>\n",
       "      <td>Come on baby don't you want to go  \\r\\nI could...</td>\n",
       "    </tr>\n",
       "    <tr>\n",
       "      <th>1</th>\n",
       "      <td>Doors</td>\n",
       "      <td>Rock Me</td>\n",
       "      <td>Want you to rock me  \\r\\nRock me all night lon...</td>\n",
       "    </tr>\n",
       "    <tr>\n",
       "      <th>2</th>\n",
       "      <td>Isley Brothers</td>\n",
       "      <td>If You Were There</td>\n",
       "      <td>You're the one that makes my day a dream come ...</td>\n",
       "    </tr>\n",
       "    <tr>\n",
       "      <th>3</th>\n",
       "      <td>Richard Marx</td>\n",
       "      <td>Playing With Fire</td>\n",
       "      <td>Hey, you got the look of a lonely woman's eyes...</td>\n",
       "    </tr>\n",
       "    <tr>\n",
       "      <th>4</th>\n",
       "      <td>Nina Simone</td>\n",
       "      <td>It Don't Mean A Thing</td>\n",
       "      <td>Don't mean a thing, you can't swing  \\r\\nDooa,...</td>\n",
       "    </tr>\n",
       "  </tbody>\n",
       "</table>\n",
       "</div>"
      ],
      "text/plain": [
       "           artist                   song  \\\n",
       "0      John Waite          Run To Mexico   \n",
       "1           Doors                Rock Me   \n",
       "2  Isley Brothers      If You Were There   \n",
       "3    Richard Marx      Playing With Fire   \n",
       "4     Nina Simone  It Don't Mean A Thing   \n",
       "\n",
       "                                                text  \n",
       "0  Come on baby don't you want to go  \\r\\nI could...  \n",
       "1  Want you to rock me  \\r\\nRock me all night lon...  \n",
       "2  You're the one that makes my day a dream come ...  \n",
       "3  Hey, you got the look of a lonely woman's eyes...  \n",
       "4  Don't mean a thing, you can't swing  \\r\\nDooa,...  "
      ]
     },
     "execution_count": 7,
     "metadata": {},
     "output_type": "execute_result"
    }
   ],
   "source": [
    "df.head()"
   ]
  },
  {
   "cell_type": "code",
   "execution_count": 8,
   "id": "67bcfcd5-4bb9-46d5-88ee-504fe61cf20e",
   "metadata": {},
   "outputs": [
    {
     "data": {
      "text/plain": [
       "\"Come on baby don't you want to go  \\r\\nI could take you there  \\r\\nYou could get what you want in the south  \\r\\nYou could let down your hair  \\r\\n  \\r\\nI said do you don't you will you won't you  \\r\\nBaby won't you please let me know  \\r\\nI ain't talkin' 'bout Chicago  \\r\\nI'm talkin' about Mexico  \\r\\n  \\r\\nNa na na na na  \\r\\nNa na na na na  \\r\\nMakin' a run for Mexico  \\r\\nMakin' a run for Mexico  \\r\\n  \\r\\nCould you  \\r\\nCome on baby cause I got to know  \\r\\nThe law is after me  \\r\\nI killed a man in a bar last night  \\r\\n  \\r\\nThere was no other way it could be  \\r\\nWhile the air in this joint could be cut with a knife  \\r\\nAs the jukebox got rotten selections  \\r\\nBring a compass and some money for gas  \\r\\n  \\r\\n'Cause I ain't gonna stop for directions  \\r\\nNot to Mexico  \\r\\nNa na na na na  \\r\\nMakin' a run to Mexico  \\r\\n  \\r\\nNa na na na na  \\r\\nMakin' a run to Mexico  \\r\\nCould you  \\r\\nOh oh  \\r\\n  \\r\\nCome on baby don't you want to go  \\r\\nI gotta get away  \\r\\nAnd everytime the phone rings  \\r\\nIt scares me to death  \\r\\n  \\r\\nSaw my face in the paper today  \\r\\nI don't want to hear the stories  \\r\\nAbout your mama and papa  \\r\\nNo I don't want to hear you cry  \\r\\n  \\r\\nFor me there's no second chance right now  \\r\\nIt's the F. B. fucking I!  \\r\\nNa na na na na  \\r\\nNa na na na na  \\r\\n  \\r\\nMakin' a run to Mexico  \\r\\nNa na na na na  \\r\\nOh yeah  \\r\\nMakin' a run to Mexico  \\r\\n  \\r\\nNa na na na na  \\r\\nMakin' a run to Mexico  \\r\\nNa na na na na  \\r\\nMy life goes on in Mexico  \\r\\n  \\r\\nMexico  \\r\\nIn Mexico  \\r\\nIn Mexico  \\r\\nIn Mexico  \\r\\n  \\r\\nIn Mexico  \\r\\nIn Mexico  \\r\\nMexico  \\r\\nYeah  \\r\\n  \\r\\nIn Mexico  \\r\\nIn Mexico  \\r\\nMexico  \\r\\nIn Mexico  \\r\\n  \\r\\nIn Mexico  \\r\\nIn Mexico\\r\\n\\r\\n\""
      ]
     },
     "execution_count": 8,
     "metadata": {},
     "output_type": "execute_result"
    }
   ],
   "source": [
    "df['text'][0]"
   ]
  },
  {
   "cell_type": "code",
   "execution_count": 9,
   "id": "d759ae7a-a6ab-4f79-8b60-bc11919cf835",
   "metadata": {},
   "outputs": [
    {
     "data": {
      "text/plain": [
       "(5000, 3)"
      ]
     },
     "execution_count": 9,
     "metadata": {},
     "output_type": "execute_result"
    }
   ],
   "source": [
    "df.shape"
   ]
  },
  {
   "cell_type": "markdown",
   "id": "c09b5762-ed70-4a43-9c31-0f3b085ab6ea",
   "metadata": {},
   "source": [
    "Text pre-processing"
   ]
  },
  {
   "cell_type": "code",
   "execution_count": 10,
   "id": "0e035634-03fd-4ded-bd98-a61fd4b322fb",
   "metadata": {},
   "outputs": [],
   "source": [
    "df['text'] = df['text'].str.lower().replace(r'^\\w\\s',' ').replace(r'\\n',' ',regex = True)"
   ]
  },
  {
   "cell_type": "code",
   "execution_count": 11,
   "id": "9569bf31-65a1-452e-8fc4-6fc67e619a16",
   "metadata": {},
   "outputs": [
    {
     "data": {
      "text/html": [
       "<div>\n",
       "<style scoped>\n",
       "    .dataframe tbody tr th:only-of-type {\n",
       "        vertical-align: middle;\n",
       "    }\n",
       "\n",
       "    .dataframe tbody tr th {\n",
       "        vertical-align: top;\n",
       "    }\n",
       "\n",
       "    .dataframe thead th {\n",
       "        text-align: right;\n",
       "    }\n",
       "</style>\n",
       "<table border=\"1\" class=\"dataframe\">\n",
       "  <thead>\n",
       "    <tr style=\"text-align: right;\">\n",
       "      <th></th>\n",
       "      <th>artist</th>\n",
       "      <th>song</th>\n",
       "      <th>text</th>\n",
       "    </tr>\n",
       "  </thead>\n",
       "  <tbody>\n",
       "    <tr>\n",
       "      <th>0</th>\n",
       "      <td>John Waite</td>\n",
       "      <td>Run To Mexico</td>\n",
       "      <td>come on baby don't you want to go  \\r i could ...</td>\n",
       "    </tr>\n",
       "    <tr>\n",
       "      <th>1</th>\n",
       "      <td>Doors</td>\n",
       "      <td>Rock Me</td>\n",
       "      <td>want you to rock me  \\r rock me all night long...</td>\n",
       "    </tr>\n",
       "    <tr>\n",
       "      <th>2</th>\n",
       "      <td>Isley Brothers</td>\n",
       "      <td>If You Were There</td>\n",
       "      <td>you're the one that makes my day a dream come ...</td>\n",
       "    </tr>\n",
       "    <tr>\n",
       "      <th>3</th>\n",
       "      <td>Richard Marx</td>\n",
       "      <td>Playing With Fire</td>\n",
       "      <td>hey, you got the look of a lonely woman's eyes...</td>\n",
       "    </tr>\n",
       "    <tr>\n",
       "      <th>4</th>\n",
       "      <td>Nina Simone</td>\n",
       "      <td>It Don't Mean A Thing</td>\n",
       "      <td>don't mean a thing, you can't swing  \\r dooa, ...</td>\n",
       "    </tr>\n",
       "  </tbody>\n",
       "</table>\n",
       "</div>"
      ],
      "text/plain": [
       "           artist                   song  \\\n",
       "0      John Waite          Run To Mexico   \n",
       "1           Doors                Rock Me   \n",
       "2  Isley Brothers      If You Were There   \n",
       "3    Richard Marx      Playing With Fire   \n",
       "4     Nina Simone  It Don't Mean A Thing   \n",
       "\n",
       "                                                text  \n",
       "0  come on baby don't you want to go  \\r i could ...  \n",
       "1  want you to rock me  \\r rock me all night long...  \n",
       "2  you're the one that makes my day a dream come ...  \n",
       "3  hey, you got the look of a lonely woman's eyes...  \n",
       "4  don't mean a thing, you can't swing  \\r dooa, ...  "
      ]
     },
     "execution_count": 11,
     "metadata": {},
     "output_type": "execute_result"
    }
   ],
   "source": [
    "df.head()"
   ]
  },
  {
   "cell_type": "code",
   "execution_count": 12,
   "id": "2f9eda1d-c97c-428a-94f2-746efd70b7df",
   "metadata": {},
   "outputs": [],
   "source": [
    "import nltk\n",
    "from nltk.stem.porter import PorterStemmer"
   ]
  },
  {
   "cell_type": "code",
   "execution_count": 24,
   "id": "4d7d3884-d770-4d72-a3ca-873c71bdeb05",
   "metadata": {},
   "outputs": [
    {
     "name": "stderr",
     "output_type": "stream",
     "text": [
      "[nltk_data] Downloading package punkt to /Users/jaydugad/nltk_data...\n",
      "[nltk_data]   Unzipping tokenizers/punkt.zip.\n"
     ]
    },
    {
     "data": {
      "text/plain": [
       "True"
      ]
     },
     "execution_count": 24,
     "metadata": {},
     "output_type": "execute_result"
    }
   ],
   "source": [
    "nltk.download('punkt')"
   ]
  },
  {
   "cell_type": "code",
   "execution_count": 13,
   "id": "a7a8c18f-5982-4637-bc07-7affcb3cc9f3",
   "metadata": {},
   "outputs": [],
   "source": [
    "stemmer = PorterStemmer()"
   ]
  },
  {
   "cell_type": "code",
   "execution_count": 14,
   "id": "6b82a8c9-38d0-41e4-a5b5-1b38f10854d2",
   "metadata": {},
   "outputs": [],
   "source": [
    "def token(txt):\n",
    "    token = nltk.word_tokenize(txt)\n",
    "    a =[stemmer.stem(w) for w in token]\n",
    "    return \" \".join(a)"
   ]
  },
  {
   "cell_type": "code",
   "execution_count": 15,
   "id": "b4c04045-9333-4267-bab8-99cf1c51551d",
   "metadata": {},
   "outputs": [
    {
     "data": {
      "text/plain": [
       "'you are beauti'"
      ]
     },
     "execution_count": 15,
     "metadata": {},
     "output_type": "execute_result"
    }
   ],
   "source": [
    "token(\"You are beautiful\")"
   ]
  },
  {
   "cell_type": "code",
   "execution_count": 16,
   "id": "97fc603d-bf12-4958-a758-11d09681a3d7",
   "metadata": {},
   "outputs": [
    {
     "data": {
      "text/plain": [
       "0       come on babi do n't you want to go i could tak...\n",
       "1       want you to rock me rock me all night long roc...\n",
       "2       you 're the one that make my day a dream come ...\n",
       "3       hey , you got the look of a lone woman 's eye ...\n",
       "4       do n't mean a thing , you ca n't swing dooa , ...\n",
       "                              ...                        \n",
       "4995    my jesu , my savior lord , there is none like ...\n",
       "4996    it 's been a long road , to get from there to ...\n",
       "4997    you do n't rememb my name i do n't realli care...\n",
       "4998    ( stephen bishop ) you call me from the room i...\n",
       "4999    well come on pretti babi wo n't you walk with ...\n",
       "Name: text, Length: 5000, dtype: object"
      ]
     },
     "execution_count": 16,
     "metadata": {},
     "output_type": "execute_result"
    }
   ],
   "source": [
    "df['text'].apply(lambda x: token(x))"
   ]
  },
  {
   "cell_type": "code",
   "execution_count": 17,
   "id": "8f1def0d-9b51-4180-862b-0c7408c15864",
   "metadata": {},
   "outputs": [],
   "source": [
    "from sklearn.feature_extraction.text import TfidfVectorizer \n",
    "from sklearn.metrics.pairwise import cosine_similarity"
   ]
  },
  {
   "cell_type": "code",
   "execution_count": 18,
   "id": "46ecec7a-75bc-43bb-ad76-08c8d344ee40",
   "metadata": {},
   "outputs": [],
   "source": [
    "tfid = TfidfVectorizer(analyzer='word', stop_words='english')"
   ]
  },
  {
   "cell_type": "code",
   "execution_count": 19,
   "id": "1e765eb4-6346-4822-90b0-373a5bbb055e",
   "metadata": {},
   "outputs": [],
   "source": [
    "matrix = tfid.fit_transform(df['text'])"
   ]
  },
  {
   "cell_type": "code",
   "execution_count": 20,
   "id": "858136b0-29ea-4c22-a96e-22009eb0ea84",
   "metadata": {},
   "outputs": [],
   "source": [
    "similar = cosine_similarity(matrix)"
   ]
  },
  {
   "cell_type": "code",
   "execution_count": 21,
   "id": "9da2f199-4710-4e63-809a-41c6cc827817",
   "metadata": {},
   "outputs": [
    {
     "data": {
      "text/plain": [
       "array([1.        , 0.0137754 , 0.01569978, ..., 0.00618666, 0.00330199,\n",
       "       0.02102206])"
      ]
     },
     "execution_count": 21,
     "metadata": {},
     "output_type": "execute_result"
    }
   ],
   "source": [
    "similar[0]"
   ]
  },
  {
   "cell_type": "code",
   "execution_count": 25,
   "id": "b5f5bfbc-cd0f-4a5c-8c4a-e748459f3e99",
   "metadata": {},
   "outputs": [],
   "source": [
    "def recommender(song_name):\n",
    "    idx = df[df['song']==song_name].index[0]\n",
    "    distance = sorted(list(enumerate(similar[idx])), reverse=True, key = lambda x:x[1])\n",
    "    song = []\n",
    "    for s_id in distance[1:5]:\n",
    "        song.append(df.iloc[s_id[0]].song)\n",
    "    return song"
   ]
  },
  {
   "cell_type": "code",
   "execution_count": 27,
   "id": "594a0095-321d-40e6-9768-0a140a4de2b1",
   "metadata": {},
   "outputs": [
    {
     "name": "stdout",
     "output_type": "stream",
     "text": [
      "['Rock Bottom', \"Rockin' Chair Money\", \"Rock 'n Roll High School\", \"Baby Let's Rock!\"]\n"
     ]
    }
   ],
   "source": [
    "print(recommender(\"Rock Me\"))"
   ]
  },
  {
   "cell_type": "code",
   "execution_count": 28,
   "id": "4ffd9450-4814-42f4-ba4b-5d1bf50f0ca7",
   "metadata": {},
   "outputs": [],
   "source": [
    "import pickle"
   ]
  },
  {
   "cell_type": "code",
   "execution_count": 31,
   "id": "c4ae280a-89e0-42f8-8e5e-c151f4d1f9f9",
   "metadata": {},
   "outputs": [],
   "source": [
    "pickle.dump(similar, open(\"similarity\", \"wb\"))"
   ]
  },
  {
   "cell_type": "code",
   "execution_count": 32,
   "id": "ca030bca-a8e7-42b7-b30e-91c3924c91f6",
   "metadata": {},
   "outputs": [],
   "source": [
    "pickle.dump(df, open(\"df\", \"wb\"))"
   ]
  },
  {
   "cell_type": "code",
   "execution_count": null,
   "id": "3b120639-a882-4e3a-b1ac-83ab8243f5fb",
   "metadata": {},
   "outputs": [],
   "source": []
  }
 ],
 "metadata": {
  "kernelspec": {
   "display_name": "Python 3 (ipykernel)",
   "language": "python",
   "name": "python3"
  },
  "language_info": {
   "codemirror_mode": {
    "name": "ipython",
    "version": 3
   },
   "file_extension": ".py",
   "mimetype": "text/x-python",
   "name": "python",
   "nbconvert_exporter": "python",
   "pygments_lexer": "ipython3",
   "version": "3.11.8"
  }
 },
 "nbformat": 4,
 "nbformat_minor": 5
}
